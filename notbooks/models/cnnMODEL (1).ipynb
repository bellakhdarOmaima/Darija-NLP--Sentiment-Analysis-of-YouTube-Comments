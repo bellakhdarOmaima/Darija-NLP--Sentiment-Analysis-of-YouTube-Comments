{
  "nbformat": 4,
  "nbformat_minor": 0,
  "metadata": {
    "colab": {
      "provenance": [],
      "gpuType": "V28"
    },
    "kernelspec": {
      "name": "python3",
      "display_name": "Python 3"
    },
    "language_info": {
      "name": "python"
    },
    "accelerator": "TPU"
  },
  "cells": [
    {
      "cell_type": "code",
      "source": [
        "from tqdm import tqdm\n",
        "import torch\n",
        "import torch.nn as nn\n",
        "import torch.optim as optim\n",
        "from torch.utils.data import Dataset, DataLoader\n",
        "from sklearn.model_selection import train_test_split\n",
        "from sklearn.preprocessing import LabelEncoder\n",
        "from sklearn.metrics import accuracy_score\n",
        "from collections import Counter\n",
        "import numpy as np\n",
        "import pandas as pd\n",
        "\n",
        "# Load your normalized_data\n",
        "data = pd.read_csv(\"normalized_data.csv\")"
      ],
      "metadata": {
        "id": "OBgoCLwJOjh4"
      },
      "execution_count": null,
      "outputs": []
    },
    {
      "cell_type": "code",
      "source": [
        "# Encode labels as integers\n",
        "label_encoder = LabelEncoder()\n",
        "data['label_encoded'] = label_encoder.fit_transform(data['label'])  # 0 for negative, 1 for positive\n",
        "\n",
        "# Prepare the vocabulary\n",
        "all_tokens = [token for tokens in data['normalized_tokens'].apply(eval).tolist() for token in tokens]\n",
        "vocab = Counter(all_tokens)\n",
        "vocab = {word: idx + 1 for idx, (word, _) in enumerate(vocab.most_common())}  # Reserve index 0 for padding\n",
        "vocab_size = len(vocab) + 1  # Add one for padding index\n",
        "\n",
        "# Convert normalized_tokens into sequences of indices\n",
        "def tokens_to_indices(tokens, vocab, max_len=100):\n",
        "    indices = [vocab.get(token, 0) for token in tokens[:max_len]]  # Truncate or pad tokens\n",
        "    return indices + [0] * (max_len - len(indices))\n",
        "\n",
        "max_len = 60  # Set maximum sequence length\n",
        "data['token_indices'] = data['normalized_tokens'].apply(lambda x: tokens_to_indices(eval(x), vocab, max_len))\n",
        "\n",
        "# Split into training and testing sets\n",
        "X = np.array(data['token_indices'].tolist())\n",
        "y = np.array(data['label_encoded'])\n",
        "X_train, X_test, y_train, y_test = train_test_split(X, y, test_size=0.2, random_state=42)\n"
      ],
      "metadata": {
        "id": "E1V41AJVOnLT"
      },
      "execution_count": null,
      "outputs": []
    },
    {
      "cell_type": "code",
      "source": [
        "# Define Dataset class\n",
        "class SentimentDataset(Dataset):\n",
        "    def __init__(self, inputs, labels):\n",
        "        self.inputs = torch.tensor(inputs, dtype=torch.long)\n",
        "        self.labels = torch.tensor(labels, dtype=torch.long)\n",
        "\n",
        "    def __len__(self):\n",
        "        return len(self.labels)\n",
        "\n",
        "    def __getitem__(self, idx):\n",
        "        return self.inputs[idx], self.labels[idx]"
      ],
      "metadata": {
        "id": "aeobzHIROpbG"
      },
      "execution_count": null,
      "outputs": []
    },
    {
      "cell_type": "code",
      "source": [
        "\n",
        "# Create Dataloaders\n",
        "train_dataset = SentimentDataset(X_train, y_train)\n",
        "test_dataset = SentimentDataset(X_test, y_test)\n",
        "train_loader = DataLoader(train_dataset, batch_size=32, shuffle=True)\n",
        "test_loader = DataLoader(test_dataset, batch_size=32, shuffle=False)\n"
      ],
      "metadata": {
        "id": "srwBksquOqqw"
      },
      "execution_count": null,
      "outputs": []
    },
    {
      "cell_type": "code",
      "source": [
        "# Define CNN model\n",
        "class CNNModel(nn.Module):\n",
        "    def __init__(self, vocab_size, embed_size, num_classes, kernel_sizes, num_filters):\n",
        "        super(CNNModel, self).__init__()\n",
        "        self.embedding = nn.Embedding(vocab_size, embed_size)\n",
        "        self.convs = nn.ModuleList([\n",
        "            nn.Sequential(\n",
        "                nn.Conv2d(1, num_filters, (k, embed_size)),\n",
        "                nn.BatchNorm2d(num_filters),\n",
        "                nn.ReLU()\n",
        "            ) for k in kernel_sizes\n",
        "        ])\n",
        "        self.dropout = nn.Dropout(0.6)\n",
        "        self.fc = nn.Linear(len(kernel_sizes) * num_filters, num_classes)\n",
        "\n",
        "    def forward(self, x):\n",
        "        x = self.embedding(x)  # [batch_size, seq_len, embed_size]\n",
        "        x = x.unsqueeze(1)  # Add channel dimension: [batch_size, 1, seq_len, embed_size]\n",
        "        x = [torch.relu(conv(x)).squeeze(3) for conv in self.convs]  # Apply each Conv2D\n",
        "        x = [torch.max(pool, 2)[0] for pool in x]  # Max pooling\n",
        "        x = torch.cat(x, 1)  # Concatenate feature maps\n",
        "        x = self.dropout(x)\n",
        "        x = self.fc(x)\n",
        "        return x\n"
      ],
      "metadata": {
        "id": "EM4sKXl2OhXL"
      },
      "execution_count": null,
      "outputs": []
    },
    {
      "cell_type": "code",
      "source": [
        "# Hyperparameters\n",
        "embed_size = 128\n",
        "num_classes = len(label_encoder.classes_)\n",
        "kernel_sizes = [2, 3, 4, 5, 6]\n",
        "num_filters = 150\n",
        "\n",
        "# Initialize model, loss, and optimizer\n",
        "model = CNNModel(vocab_size, embed_size, num_classes, kernel_sizes, num_filters)\n",
        "criterion = nn.CrossEntropyLoss()\n",
        "optimizer = optim.Adam(model.parameters(), lr=0.001, weight_decay=1e-5)\n",
        "scheduler = optim.lr_scheduler.StepLR(optimizer, step_size=3, gamma=0.5)\n"
      ],
      "metadata": {
        "id": "berQLiSAOeGD"
      },
      "execution_count": null,
      "outputs": []
    },
    {
      "cell_type": "code",
      "source": [
        "# Training loop\n",
        "def train_model(model, train_loader, test_loader, criterion, optimizer, scheduler, epochs=10):\n",
        "    for epoch in range(epochs):\n",
        "        model.train()\n",
        "        total_loss = 0\n",
        "        all_preds = []\n",
        "        all_labels = []\n",
        "\n",
        "        # Progress bar for batches\n",
        "        print(f\"\\nEpoch {epoch+1}/{epochs}\")\n",
        "        progress_bar = tqdm(enumerate(train_loader), total=len(train_loader), desc=\"Training\")\n",
        "\n",
        "        for batch_idx, (inputs, labels) in progress_bar:\n",
        "            optimizer.zero_grad()\n",
        "            outputs = model(inputs)\n",
        "            loss = criterion(outputs, labels)\n",
        "            loss.backward()\n",
        "            optimizer.step()\n",
        "            total_loss += loss.item()\n",
        "\n",
        "            preds = torch.argmax(outputs, dim=1)\n",
        "            all_preds.extend(preds.cpu().numpy())\n",
        "            all_labels.extend(labels.cpu().numpy())\n",
        "\n",
        "            # Update progress bar\n",
        "            progress_bar.set_postfix({\"Batch Loss\": loss.item()})\n",
        "\n",
        "        # Calculate epoch-level train accuracy\n",
        "        train_accuracy = accuracy_score(all_labels, all_preds)\n",
        "        print(f\"Epoch {epoch+1} Summary: Loss = {total_loss / len(train_loader):.4f}, Train Accuracy = {train_accuracy:.4f}\")\n",
        "\n",
        "        # Adjust learning rate\n",
        "        scheduler.step()\n",
        "\n",
        "        # Evaluate on validation set\n",
        "        evaluate_model(model, test_loader)"
      ],
      "metadata": {
        "id": "0VvEGcpTOZrt"
      },
      "execution_count": null,
      "outputs": []
    },
    {
      "cell_type": "code",
      "source": [
        "def evaluate_model(model, test_loader):\n",
        "    model.eval()\n",
        "    all_preds = []\n",
        "    all_labels = []\n",
        "    total_loss = 0\n",
        "    with torch.no_grad():\n",
        "        for inputs, labels in test_loader:\n",
        "            outputs = model(inputs)\n",
        "            loss = criterion(outputs, labels)\n",
        "            total_loss += loss.item()\n",
        "\n",
        "            preds = torch.argmax(outputs, dim=1)\n",
        "            all_preds.extend(preds.cpu().numpy())\n",
        "            all_labels.extend(labels.cpu().numpy())\n",
        "\n",
        "    val_accuracy = accuracy_score(all_labels, all_preds)\n",
        "    print(f\"Validation Loss: {total_loss / len(test_loader):.4f}, Validation Accuracy: {val_accuracy:.4f}\")"
      ],
      "metadata": {
        "id": "8L9pRpCyOVv5"
      },
      "execution_count": null,
      "outputs": []
    },
    {
      "cell_type": "code",
      "source": [
        "# Train the model\n",
        "train_model(model, train_loader, test_loader, criterion, optimizer, scheduler, epochs=10)\n"
      ],
      "metadata": {
        "colab": {
          "base_uri": "https://localhost:8080/"
        },
        "id": "iAk2Tp7CH2xq",
        "outputId": "042d380a-b909-401a-bbbb-d830d5e044fd"
      },
      "execution_count": null,
      "outputs": [
        {
          "output_type": "stream",
          "name": "stdout",
          "text": [
            "\n",
            "Epoch 1/10\n"
          ]
        },
        {
          "output_type": "stream",
          "name": "stderr",
          "text": [
            "Training: 100%|██████████| 526/526 [04:09<00:00,  2.11it/s, Batch Loss=1.02]\n"
          ]
        },
        {
          "output_type": "stream",
          "name": "stdout",
          "text": [
            "Epoch 1 Summary: Loss = 0.8822, Train Accuracy = 0.5955\n",
            "Validation Loss: 0.6269, Validation Accuracy: 0.6369\n",
            "\n",
            "Epoch 2/10\n"
          ]
        },
        {
          "output_type": "stream",
          "name": "stderr",
          "text": [
            "Training: 100%|██████████| 526/526 [04:06<00:00,  2.13it/s, Batch Loss=0.628]\n"
          ]
        },
        {
          "output_type": "stream",
          "name": "stdout",
          "text": [
            "Epoch 2 Summary: Loss = 0.6469, Train Accuracy = 0.6622\n",
            "Validation Loss: 0.5183, Validation Accuracy: 0.7361\n",
            "\n",
            "Epoch 3/10\n"
          ]
        },
        {
          "output_type": "stream",
          "name": "stderr",
          "text": [
            "Training: 100%|██████████| 526/526 [04:12<00:00,  2.09it/s, Batch Loss=0.445]\n"
          ]
        },
        {
          "output_type": "stream",
          "name": "stdout",
          "text": [
            "Epoch 3 Summary: Loss = 0.5678, Train Accuracy = 0.7179\n",
            "Validation Loss: 0.4966, Validation Accuracy: 0.7475\n",
            "\n",
            "Epoch 4/10\n"
          ]
        },
        {
          "output_type": "stream",
          "name": "stderr",
          "text": [
            "Training: 100%|██████████| 526/526 [04:18<00:00,  2.03it/s, Batch Loss=0.262]\n"
          ]
        },
        {
          "output_type": "stream",
          "name": "stdout",
          "text": [
            "Epoch 4 Summary: Loss = 0.4434, Train Accuracy = 0.7934\n",
            "Validation Loss: 0.4728, Validation Accuracy: 0.7803\n",
            "\n",
            "Epoch 5/10\n"
          ]
        },
        {
          "output_type": "stream",
          "name": "stderr",
          "text": [
            "Training: 100%|██████████| 526/526 [04:17<00:00,  2.04it/s, Batch Loss=0.685]\n"
          ]
        },
        {
          "output_type": "stream",
          "name": "stdout",
          "text": [
            "Epoch 5 Summary: Loss = 0.3905, Train Accuracy = 0.8311\n",
            "Validation Loss: 0.4512, Validation Accuracy: 0.7915\n",
            "\n",
            "Epoch 6/10\n"
          ]
        },
        {
          "output_type": "stream",
          "name": "stderr",
          "text": [
            "Training: 100%|██████████| 526/526 [04:21<00:00,  2.01it/s, Batch Loss=0.0945]\n"
          ]
        },
        {
          "output_type": "stream",
          "name": "stdout",
          "text": [
            "Epoch 6 Summary: Loss = 0.3380, Train Accuracy = 0.8588\n",
            "Validation Loss: 0.4512, Validation Accuracy: 0.7970\n",
            "\n",
            "Epoch 7/10\n"
          ]
        },
        {
          "output_type": "stream",
          "name": "stderr",
          "text": [
            "Training: 100%|██████████| 526/526 [04:19<00:00,  2.03it/s, Batch Loss=0.277]\n"
          ]
        },
        {
          "output_type": "stream",
          "name": "stdout",
          "text": [
            "Epoch 7 Summary: Loss = 0.2614, Train Accuracy = 0.9002\n",
            "Validation Loss: 0.4785, Validation Accuracy: 0.8019\n",
            "\n",
            "Epoch 8/10\n"
          ]
        },
        {
          "output_type": "stream",
          "name": "stderr",
          "text": [
            "Training: 100%|██████████| 526/526 [04:21<00:00,  2.01it/s, Batch Loss=0.169]\n"
          ]
        },
        {
          "output_type": "stream",
          "name": "stdout",
          "text": [
            "Epoch 8 Summary: Loss = 0.2275, Train Accuracy = 0.9160\n",
            "Validation Loss: 0.4907, Validation Accuracy: 0.8005\n",
            "\n",
            "Epoch 9/10\n"
          ]
        },
        {
          "output_type": "stream",
          "name": "stderr",
          "text": [
            "Training: 100%|██████████| 526/526 [04:22<00:00,  2.01it/s, Batch Loss=0.206]\n"
          ]
        },
        {
          "output_type": "stream",
          "name": "stdout",
          "text": [
            "Epoch 9 Summary: Loss = 0.2054, Train Accuracy = 0.9245\n",
            "Validation Loss: 0.5065, Validation Accuracy: 0.8036\n",
            "\n",
            "Epoch 10/10\n"
          ]
        },
        {
          "output_type": "stream",
          "name": "stderr",
          "text": [
            "Training: 100%|██████████| 526/526 [04:23<00:00,  2.00it/s, Batch Loss=0.117]\n"
          ]
        },
        {
          "output_type": "stream",
          "name": "stdout",
          "text": [
            "Epoch 10 Summary: Loss = 0.1640, Train Accuracy = 0.9429\n",
            "Validation Loss: 0.5480, Validation Accuracy: 0.8012\n"
          ]
        }
      ]
    }
  ]
}
