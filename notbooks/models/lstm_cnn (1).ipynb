{
  "nbformat": 4,
  "nbformat_minor": 0,
  "metadata": {
    "colab": {
      "provenance": []
    },
    "kernelspec": {
      "name": "python3",
      "display_name": "Python 3"
    },
    "language_info": {
      "name": "python"
    }
  },
  "cells": [
    {
      "cell_type": "code",
      "source": [
        "import torch\n",
        "import torch.nn as nn\n",
        "import torch.optim as optim\n",
        "from torch.utils.data import Dataset, DataLoader\n",
        "from sklearn.model_selection import train_test_split\n",
        "from sklearn.preprocessing import LabelEncoder\n",
        "from sklearn.metrics import accuracy_score\n",
        "from collections import Counter\n",
        "import numpy as np\n",
        "import pandas as pd\n",
        "import re\n",
        "\n",
        "# Load your normalized_data\n",
        "data = pd.read_csv(\"normalized_data.csv\")\n",
        "\n",
        "# Encode labels as integers\n",
        "label_encoder = LabelEncoder()\n",
        "data['label_encoded'] = label_encoder.fit_transform(data['label'])  # 0 for negative, 1 for positive\n",
        "\n",
        "\n"
      ],
      "metadata": {
        "id": "y0-7Ae-_Mg1X"
      },
      "execution_count": null,
      "outputs": []
    },
    {
      "cell_type": "code",
      "source": [
        "# Prepare the vocabulary\n",
        "all_tokens = [token for tokens in data['normalized_tokens'].apply(eval).tolist() for token in tokens]\n",
        "vocab = Counter(all_tokens)\n",
        "vocab = {word: idx + 1 for idx, (word, _) in enumerate(vocab.most_common())}  # Reserve index 0 for padding\n",
        "vocab_size = len(vocab) + 1  # Add one for padding index\n",
        "\n",
        "# Convert normalized_tokens into sequences of indices\n",
        "def tokens_to_indices(tokens, vocab, max_len=100):\n",
        "    indices = [vocab.get(token, 0) for token in tokens[:max_len]]  # Truncate or pad tokens\n",
        "    return indices + [0] * (max_len - len(indices))\n",
        "\n",
        "max_len = 60  # Set maximum sequence length\n",
        "data['token_indices'] = data['normalized_tokens'].apply(lambda x: tokens_to_indices(eval(x), vocab, max_len))\n",
        "\n",
        "# Split into training and testing sets\n",
        "X = np.array(data['token_indices'].tolist())\n",
        "y = np.array(data['label_encoded'])\n",
        "X_train, X_test, y_train, y_test = train_test_split(X, y, test_size=0.2, random_state=42)\n",
        "\n",
        "\n"
      ],
      "metadata": {
        "id": "8Y1srA6vMrYZ"
      },
      "execution_count": null,
      "outputs": []
    },
    {
      "cell_type": "code",
      "source": [
        "# Define Dataset class\n",
        "class SentimentDataset(Dataset):\n",
        "    def __init__(self, inputs, labels):\n",
        "        self.inputs = torch.tensor(inputs, dtype=torch.long)\n",
        "        self.labels = torch.tensor(labels, dtype=torch.long)\n",
        "\n",
        "    def __len__(self):\n",
        "        return len(self.labels)\n",
        "\n",
        "    def __getitem__(self, idx):\n",
        "        return self.inputs[idx], self.labels[idx]\n",
        "\n",
        "# Create Dataloaders\n",
        "train_dataset = SentimentDataset(X_train, y_train)\n",
        "test_dataset = SentimentDataset(X_test, y_test)\n",
        "train_loader = DataLoader(train_dataset, batch_size=32, shuffle=True)\n",
        "test_loader = DataLoader(test_dataset, batch_size=32, shuffle=False)\n",
        "\n",
        "# Define BiLSTM-CNN Hybrid Model\n",
        "class BiLSTM_CNN(nn.Module):\n",
        "    def __init__(self, vocab_size, embed_size, hidden_size, num_classes, kernel_sizes, num_filters):\n",
        "        super(BiLSTM_CNN, self).__init__()\n",
        "        self.embedding = nn.Embedding(vocab_size, embed_size)\n",
        "        self.lstm = nn.LSTM(embed_size, hidden_size, batch_first=True, bidirectional=True)\n",
        "        self.convs = nn.ModuleList([\n",
        "            nn.Conv2d(1, num_filters, (k, 2 * hidden_size)) for k in kernel_sizes\n",
        "        ])\n",
        "        self.fc = nn.Linear(len(kernel_sizes) * num_filters, num_classes)\n",
        "        self.dropout = nn.Dropout(0.5)\n",
        "\n",
        "    def forward(self, x):\n",
        "        x = self.embedding(x)  # [batch_size, seq_len, embed_size]\n",
        "        lstm_out, _ = self.lstm(x)  # [batch_size, seq_len, 2 * hidden_size]\n",
        "        lstm_out = lstm_out.unsqueeze(1)  # Add channel dimension: [batch_size, 1, seq_len, 2 * hidden_size]\n",
        "        conv_outs = [torch.relu(conv(lstm_out)).squeeze(3) for conv in self.convs]  # Apply each Conv2D\n",
        "        conv_outs = [torch.max(pool, 2)[0] for pool in conv_outs]  # Max pooling\n",
        "        x = torch.cat(conv_outs, 1)  # Concatenate feature maps\n",
        "        x = self.dropout(x)\n",
        "        x = self.fc(x)\n",
        "        return x\n",
        "\n"
      ],
      "metadata": {
        "id": "jwp7JNUzMyQr"
      },
      "execution_count": null,
      "outputs": []
    },
    {
      "cell_type": "code",
      "source": [
        "# Hyperparameters\n",
        "embed_size = 128\n",
        "hidden_size = 64\n",
        "num_classes = len(label_encoder.classes_)\n",
        "kernel_sizes = [3, 4, 5]\n",
        "num_filters = 100\n",
        "\n",
        "# Initialize model, loss, and optimizer\n",
        "model = BiLSTM_CNN(vocab_size, embed_size, hidden_size, num_classes, kernel_sizes, num_filters)\n",
        "criterion = nn.CrossEntropyLoss()\n",
        "optimizer = optim.AdamW(model.parameters(), lr=0.001, weight_decay=1e-5)  # Added weight decay\n",
        "\n"
      ],
      "metadata": {
        "id": "aw2-rZCNMz4m"
      },
      "execution_count": null,
      "outputs": []
    },
    {
      "cell_type": "code",
      "source": [
        "# Training loop\n",
        "def train_model(model, train_loader, test_loader, criterion, optimizer, epochs=10):\n",
        "    scheduler = torch.optim.lr_scheduler.StepLR(optimizer, step_size=3, gamma=0.5)  # Learning rate scheduler\n",
        "    for epoch in range(epochs):\n",
        "        model.train()\n",
        "        total_loss = 0\n",
        "        for inputs, labels in train_loader:\n",
        "            optimizer.zero_grad()\n",
        "            outputs = model(inputs)\n",
        "            loss = criterion(outputs, labels)\n",
        "            loss.backward()\n",
        "            optimizer.step()\n",
        "            total_loss += loss.item()\n",
        "\n",
        "        scheduler.step()\n",
        "        print(f\"Epoch {epoch+1}/{epochs}, Loss: {total_loss / len(train_loader):.4f}\")\n",
        "        evaluate_model(model, test_loader)"
      ],
      "metadata": {
        "id": "L-F2oFp3M1ko"
      },
      "execution_count": null,
      "outputs": []
    },
    {
      "cell_type": "code",
      "source": [
        "\n",
        "def evaluate_model(model, test_loader):\n",
        "    model.eval()\n",
        "    all_preds = []\n",
        "    all_labels = []\n",
        "    with torch.no_grad():\n",
        "        for inputs, labels in test_loader:\n",
        "            outputs = model(inputs)\n",
        "            preds = torch.argmax(outputs, dim=1)\n",
        "            all_preds.extend(preds.cpu().numpy())\n",
        "            all_labels.extend(labels.cpu().numpy())\n",
        "    accuracy = accuracy_score(all_labels, all_preds)\n",
        "    print(f\"Validation Accuracy: {accuracy:.4f}\")\n",
        "\n"
      ],
      "metadata": {
        "id": "GGFU6gghMbJL"
      },
      "execution_count": null,
      "outputs": []
    },
    {
      "cell_type": "code",
      "execution_count": null,
      "metadata": {
        "colab": {
          "base_uri": "https://localhost:8080/"
        },
        "id": "hSjoMisKK33J",
        "outputId": "9bd8ed97-8ec9-4424-ba36-b69813961857"
      },
      "outputs": [
        {
          "output_type": "stream",
          "name": "stdout",
          "text": [
            "Epoch 1/10, Loss: 0.5551\n",
            "Validation Accuracy: 0.7587\n",
            "Epoch 2/10, Loss: 0.3770\n",
            "Validation Accuracy: 0.7827\n",
            "Epoch 3/10, Loss: 0.2110\n",
            "Validation Accuracy: 0.7786\n",
            "Epoch 4/10, Loss: 0.0814\n",
            "Validation Accuracy: 0.7846\n",
            "Epoch 5/10, Loss: 0.0477\n",
            "Validation Accuracy: 0.7829\n",
            "Epoch 6/10, Loss: 0.0337\n",
            "Validation Accuracy: 0.7791\n",
            "Epoch 7/10, Loss: 0.0219\n",
            "Validation Accuracy: 0.7865\n",
            "Epoch 8/10, Loss: 0.0175\n",
            "Validation Accuracy: 0.7834\n",
            "Epoch 9/10, Loss: 0.0159\n",
            "Validation Accuracy: 0.7820\n",
            "Epoch 10/10, Loss: 0.0134\n",
            "Validation Accuracy: 0.7822\n"
          ]
        }
      ],
      "source": [
        "# Train the model\n",
        "train_model(model, train_loader, test_loader, criterion, optimizer, epochs=10)"
      ]
    },
    {
      "cell_type": "code",
      "source": [],
      "metadata": {
        "id": "sm18E-JuMaNy"
      },
      "execution_count": null,
      "outputs": []
    },
    {
      "cell_type": "code",
      "source": [
        "# Save the model's state dictionary\n",
        "torch.save(model.state_dict(), \"bilstm_cnn_model.pth\")\n",
        "\n",
        "# Save the entire model (optional, but larger file size)\n",
        "torch.save(model, \"bilstm_cnn_model_full.pth\")\n",
        "\n",
        "print(\"Model saved successfully!\")\n"
      ],
      "metadata": {
        "id": "auq0JRUUSi6-",
        "outputId": "f6da4630-3b09-4a5a-a55f-8e0dbd4da193",
        "colab": {
          "base_uri": "https://localhost:8080/"
        }
      },
      "execution_count": null,
      "outputs": [
        {
          "output_type": "stream",
          "name": "stdout",
          "text": [
            "Model saved successfully!\n"
          ]
        }
      ]
    },
    {
      "cell_type": "code",
      "source": [
        "# Sauvegarder le vocabulaire\n",
        "with open(\"vocablstm.pkl\", \"wb\") as f:\n",
        "    pickle.dump(vocab, f)\n",
        "\n",
        "# Sauvegarder le label encoder\n",
        "with open(\"label_encoderlstm.pkl\", \"wb\") as f:\n",
        "    pickle.dump(label_encoder, f)\n",
        "\n",
        "print(\"✅ Vocabulaire et label encoder sauvegardés sous 'vocab.pkl' et 'label_encoder.pkl'.\")\n"
      ],
      "metadata": {
        "colab": {
          "base_uri": "https://localhost:8080/"
        },
        "id": "0T-nuU4XnRjL",
        "outputId": "c99677a2-4f34-4231-f003-2dda5b7235bc"
      },
      "execution_count": null,
      "outputs": [
        {
          "output_type": "stream",
          "name": "stdout",
          "text": [
            "✅ Vocabulaire et label encoder sauvegardés sous 'vocab.pkl' et 'label_encoder.pkl'.\n"
          ]
        }
      ]
    },
    {
      "cell_type": "code",
      "source": [],
      "metadata": {
        "id": "J9hYaMC-qVg6"
      },
      "execution_count": null,
      "outputs": []
    },
    {
      "cell_type": "code",
      "source": [],
      "metadata": {
        "id": "5r4UwlSXphdj"
      },
      "execution_count": null,
      "outputs": []
    }
  ]
}