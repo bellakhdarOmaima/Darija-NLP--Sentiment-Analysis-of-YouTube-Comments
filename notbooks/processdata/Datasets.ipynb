{
  "nbformat": 4,
  "nbformat_minor": 0,
  "metadata": {
    "colab": {
      "provenance": []
    },
    "kernelspec": {
      "name": "python3",
      "display_name": "Python 3"
    },
    "language_info": {
      "name": "python"
    }
  },
  "cells": [
    {
      "cell_type": "code",
      "execution_count": null,
      "metadata": {
        "colab": {
          "base_uri": "https://localhost:8080/"
        },
        "id": "NN5BmhxW7oJW",
        "outputId": "89dbf9e5-764e-43e2-a695-1a9b539b6e14"
      },
      "outputs": [
        {
          "output_type": "stream",
          "name": "stdout",
          "text": [
            "Nombre de lignes dans MYCdarija_df : 14148\n",
            "Aperçu des 4 premières lignes :\n",
            "                                  clean_sentence     label\n",
            "0                 انسان عبارة عن دواء للإكتئاب❤🎤  positive\n",
            "1              نحبك يا فنان وااااااحسااااااااان❤  positive\n",
            "2  وحق الرب الى دوا د الاكتئاب الأسطورة❤️❤️❤️❤️😂  positive\n",
            "3            اسطورة بكل ما تحمل الكلمة من معنى ❤  positive\n",
            "\n",
            "Nombre de commentaires positifs et négatifs :\n",
            "label\n",
            "negative    7971\n",
            "positive    6177\n",
            "Name: count, dtype: int64\n"
          ]
        }
      ],
      "source": [
        "import pandas as pd\n",
        "\n",
        "# Charger le fichier\n",
        "MYCdarija_df = pd.read_csv(\"MYCdarija_df.csv\")\n",
        "\n",
        "# Afficher le nombre de lignes\n",
        "print(f\"Nombre de lignes dans MYCdarija_df : {MYCdarija_df.shape[0]}\")\n",
        "\n",
        "# Afficher les 4 premières lignes\n",
        "print(\"Aperçu des 4 premières lignes :\")\n",
        "print(MYCdarija_df.head(4))\n",
        "\n",
        "# Compter le nombre de positifs et négatifs\n",
        "label_counts = MYCdarija_df['label'].value_counts()\n",
        "print(\"\\nNombre de commentaires positifs et négatifs :\")\n",
        "print(label_counts)\n"
      ]
    },
    {
      "cell_type": "code",
      "source": [],
      "metadata": {
        "id": "Bwlgu2LEIj6t"
      },
      "execution_count": null,
      "outputs": []
    },
    {
      "cell_type": "code",
      "source": [
        "# Charger le fichier\n",
        "MYClatin_df = pd.read_csv(\"MYClatin_df.csv\")\n",
        "\n",
        "# Afficher le nombre de lignes\n",
        "print(f\"Nombre de lignes dans MYClatin_df : {MYClatin_df.shape[0]}\")\n",
        "\n",
        "# Afficher les 4 premières lignes\n",
        "print(\"Aperçu des 4 premières lignes :\")\n",
        "print(MYClatin_df.head(4))\n",
        "\n",
        "# Compter le nombre de positifs et négatifs\n",
        "label_counts = MYClatin_df['label'].value_counts()\n",
        "print(\"\\nNombre de commentaires positifs et négatifs :\")\n",
        "print(label_counts)\n"
      ],
      "metadata": {
        "colab": {
          "base_uri": "https://localhost:8080/"
        },
        "id": "1EnqTH1E8dAE",
        "outputId": "4c677a39-16bd-4c5f-f9c0-1c3bd62a8d4f"
      },
      "execution_count": null,
      "outputs": [
        {
          "output_type": "stream",
          "name": "stdout",
          "text": [
            "Nombre de lignes dans MYClatin_df : 5843\n",
            "Aperçu des 4 premières lignes :\n",
            "                                      clean_sentence     label\n",
            "0                   Stream zuin😂 Thank you ilyas ❤️🫶  positive\n",
            "1                                      ahsan live 😂❤  positive\n",
            "2  أقسم بالله ايلا 8 ساعات من الضحك المتواصل 😂😂😂😂...  positive\n",
            "3                              اسطورة لن تتكرر❤👑king  positive\n",
            "\n",
            "Nombre de commentaires positifs et négatifs :\n",
            "label\n",
            "positive    3822\n",
            "negative    2021\n",
            "Name: count, dtype: int64\n"
          ]
        }
      ]
    },
    {
      "cell_type": "code",
      "source": [
        "# Charger le fichier\n",
        "mac_df = pd.read_csv(\"mac_df.csv\")\n",
        "\n",
        "# Afficher le nombre de lignes\n",
        "print(f\"Nombre de lignes dans mac_df : {mac_df.shape[0]}\")\n",
        "\n",
        "# Afficher les 4 premières lignes\n",
        "print(\"Aperçu des 4 premières lignes :\")\n",
        "print(mac_df.head(4))\n",
        "\n",
        "# Compter le nombre de positifs et négatifs\n",
        "label_counts = mac_df['type'].value_counts()\n",
        "print(\"\\nNombre de commentaires positifs et négatifs :\")\n",
        "print(label_counts)\n"
      ],
      "metadata": {
        "colab": {
          "base_uri": "https://localhost:8080/"
        },
        "id": "j27SqjCt8fKQ",
        "outputId": "bc8b52bd-6cf9-4940-9911-a7d039943d77"
      },
      "execution_count": null,
      "outputs": [
        {
          "output_type": "stream",
          "name": "stdout",
          "text": [
            "Nombre de lignes dans mac_df : 13395\n",
            "Aperçu des 4 premières lignes :\n",
            "                                              tweets      type      class\n",
            "0                       عبقرية المدرب وروعة اللاعبين  positive   standard\n",
            "1                             أمة عربية واحدة خالدة   positive   standard\n",
            "2                           الله يخلف عليك سيدي محمد  positive  dialectal\n",
            "3  هجومك يا أخي على حسن طارق تبرهيش و قلة عقل ودل...  negative  dialectal\n",
            "\n",
            "Nombre de commentaires positifs et négatifs :\n",
            "type\n",
            "positive    9890\n",
            "negative    3505\n",
            "Name: count, dtype: int64\n"
          ]
        }
      ]
    },
    {
      "cell_type": "code",
      "source": [
        "# Charger le fichier\n",
        "macdarija_df = pd.read_csv(\"macdarija_df.csv\")\n",
        "\n",
        "# Afficher le nombre de lignes\n",
        "print(f\"Nombre de lignes dans macdarija_df : {macdarija_df.shape[0]}\")\n",
        "\n",
        "# Afficher les 4 premières lignes\n",
        "print(\"Aperçu des 4 premières lignes :\")\n",
        "print(macdarija_df.head(4))\n",
        "\n",
        "# Compter le nombre de positifs et négatifs\n",
        "label_counts = macdarija_df['type'].value_counts()\n",
        "print(\"\\nNombre de commentaires positifs et négatifs :\")\n",
        "print(label_counts)\n"
      ],
      "metadata": {
        "colab": {
          "base_uri": "https://localhost:8080/"
        },
        "id": "5T3gJbE28znT",
        "outputId": "0e40fccf-5775-416d-af39-612c82e6769c"
      },
      "execution_count": null,
      "outputs": [
        {
          "output_type": "stream",
          "name": "stdout",
          "text": [
            "Nombre de lignes dans macdarija_df : 3972\n",
            "Aperçu des 4 premières lignes :\n",
            "                                              tweets      type      class\n",
            "0                           الله يخلف عليك سيدي محمد  positive  dialectal\n",
            "1  هجومك يا أخي على حسن طارق تبرهيش و قلة عقل ودل...  negative  dialectal\n",
            "2           شكرا يوسف سفري بوعميرة وبنحليب ديما راجا  positive  dialectal\n",
            "3                           الله يخلي لنيا العونيات   positive  dialectal\n",
            "\n",
            "Nombre de commentaires positifs et négatifs :\n",
            "type\n",
            "positive    2990\n",
            "negative     982\n",
            "Name: count, dtype: int64\n"
          ]
        }
      ]
    },
    {
      "cell_type": "code",
      "source": [
        "# Charger le fichier\n",
        "msac_df = pd.read_csv(\"msac_df.csv\")\n",
        "\n",
        "# Afficher le nombre de lignes\n",
        "print(f\"Nombre de lignes dans msac_df : {msac_df.shape[0]}\")\n",
        "\n",
        "# Afficher les 4 premières lignes\n",
        "print(\"Aperçu des 4 premières lignes :\")\n",
        "print(msac_df.head(6))\n",
        "\n",
        "# Compter le nombre de positifs et négatifs\n",
        "label_counts = msac_df['label'].value_counts()\n",
        "print(\"\\nNombre de commentaires positifs et négatifs :\")\n",
        "print(label_counts)\n"
      ],
      "metadata": {
        "colab": {
          "base_uri": "https://localhost:8080/"
        },
        "id": "CGfvW2EB8-UK",
        "outputId": "3b109025-6ee4-4d5f-8945-b5279731955f"
      },
      "execution_count": null,
      "outputs": [
        {
          "output_type": "stream",
          "name": "stdout",
          "text": [
            "Nombre de lignes dans msac_df : 2000\n",
            "Aperçu des 4 premières lignes :\n",
            "                                            sentence     label\n",
            "0  طوال حياتي لم المس اي تغير حتى قدمت هذه الحكوم...  positive\n",
            "1                    منتوج رائع  وثمن مناسب ....جميل  positive\n",
            "2               كلنا ابن كيران لمتافق معايا يدير جيم  positive\n",
            "3          وفقك الله لولاية اخرى حقاش مكينش محسن منك  positive\n",
            "4  لأنه و بكل بساطة رئيس الحكومة يعتني بمعاق داخل...  positive\n",
            "5  صدق من قال بن كيران أحسن رئيس حكومة مند الاستق...  positive\n",
            "\n",
            "Nombre de commentaires positifs et négatifs :\n",
            "label\n",
            "positive    1000\n",
            "negative    1000\n",
            "Name: count, dtype: int64\n"
          ]
        }
      ]
    },
    {
      "cell_type": "code",
      "source": [
        "# Charger le fichier\n",
        "omcd_df = pd.read_csv(\"omcd_df.csv\")\n",
        "\n",
        "# Afficher le nombre de lignes\n",
        "print(f\"Nombre de lignes dans omcd_df : {omcd_df.shape[0]}\")\n",
        "\n",
        "# Afficher les 4 premières lignes\n",
        "print(\"Aperçu des 4 premières lignes :\")\n",
        "print(omcd_df.head(4))\n",
        "\n",
        "# Compter le nombre de positifs et négatifs\n",
        "label_counts = omcd_df['label'].value_counts()\n",
        "print(\"\\nNombre de commentaires positifs et négatifs :\")\n",
        "print(label_counts)\n"
      ],
      "metadata": {
        "colab": {
          "base_uri": "https://localhost:8080/"
        },
        "id": "M9hTLQiq9DRR",
        "outputId": "a493410c-8044-4eff-a21b-8d749f5e4ea7"
      },
      "execution_count": null,
      "outputs": [
        {
          "output_type": "stream",
          "name": "stdout",
          "text": [
            "Nombre de lignes dans omcd_df : 1605\n",
            "Aperçu des 4 premières lignes :\n",
            "                                            sentence     label\n",
            "0                      تبهديل تسؤلو البنات في الشارع  negative\n",
            "1  انا مستعد بي مسعدة بسيطة في وجه اللة ربي يادير...  positive\n",
            "2                لاحول ولاقوة الا بالله العلي العظيم  positive\n",
            "3  حتى هاد العائلة لي جالس وسط منهوم خص يدلمهوم ا...  negative\n",
            "\n",
            "Nombre de commentaires positifs et négatifs :\n",
            "label\n",
            "negative    888\n",
            "positive    717\n",
            "Name: count, dtype: int64\n"
          ]
        }
      ]
    },
    {
      "cell_type": "code",
      "source": [
        "\n",
        "# Renommer la colonne 'clean_sentence' en 'sentence'\n",
        "MYCdarija_df.rename(columns={'clean_sentence': 'sentence'}, inplace=True)\n",
        "print(MYCdarija_df.head(4))\n"
      ],
      "metadata": {
        "colab": {
          "base_uri": "https://localhost:8080/"
        },
        "id": "7LW89WacAWPw",
        "outputId": "18d4a8cb-33c8-47ae-8046-99967fbb801d"
      },
      "execution_count": null,
      "outputs": [
        {
          "output_type": "stream",
          "name": "stdout",
          "text": [
            "                                        sentence     label\n",
            "0                 انسان عبارة عن دواء للإكتئاب❤🎤  positive\n",
            "1              نحبك يا فنان وااااااحسااااااااان❤  positive\n",
            "2  وحق الرب الى دوا د الاكتئاب الأسطورة❤️❤️❤️❤️😂  positive\n",
            "3            اسطورة بكل ما تحمل الكلمة من معنى ❤  positive\n"
          ]
        }
      ]
    },
    {
      "cell_type": "code",
      "source": [
        "\n",
        "# Renommer les colonnes\n",
        "macdarija_df.rename(columns={'tweets': 'sentence', 'type': 'label'}, inplace=True)\n",
        "\n",
        "print(macdarija_df.head(4))\n"
      ],
      "metadata": {
        "colab": {
          "base_uri": "https://localhost:8080/"
        },
        "id": "5CKxz6zSAisG",
        "outputId": "5b6aebc7-912e-4162-e5ea-eb11d1bdd5c4"
      },
      "execution_count": null,
      "outputs": [
        {
          "output_type": "stream",
          "name": "stdout",
          "text": [
            "                                            sentence     label      class\n",
            "0                           الله يخلف عليك سيدي محمد  positive  dialectal\n",
            "1  هجومك يا أخي على حسن طارق تبرهيش و قلة عقل ودل...  negative  dialectal\n",
            "2           شكرا يوسف سفري بوعميرة وبنحليب ديما راجا  positive  dialectal\n",
            "3                           الله يخلي لنيا العونيات   positive  dialectal\n"
          ]
        }
      ]
    },
    {
      "cell_type": "code",
      "source": [
        "\n",
        "\n",
        "# Uniformiser les colonnes pour tous les DataFrames (garder uniquement 'sentence' et 'label')\n",
        "MYCdarija_df = MYCdarija_df[['sentence', 'label']]\n",
        "omcd_df = omcd_df[['sentence', 'label']]\n",
        "macdarija_df = macdarija_df[['sentence', 'label']]\n",
        "msac_df = msac_df[['sentence', 'label']]\n",
        "\n",
        "# Combiner tous les DataFrames en un seul\n",
        "alldata = pd.concat([MYCdarija_df, omcd_df, macdarija_df, msac_df], ignore_index=True)\n",
        "\n",
        "# Afficher un aperçu du DataFrame combiné\n",
        "print(\"Nombre total de lignes dans alldata :\", alldata.shape[0])\n",
        "print(\"Aperçu des premières lignes :\")\n",
        "print(alldata.head())\n",
        "\n",
        "# Sauvegarder le DataFrame combiné en CSV (optionnel)\n",
        "alldata.to_csv(\"alldata.csv\", index=False, encoding='utf-8')\n",
        "\n",
        "print(\"\\n✅ Le fichier 'alldata.csv' a été sauvegardé avec succès.\")\n"
      ],
      "metadata": {
        "colab": {
          "base_uri": "https://localhost:8080/"
        },
        "id": "BuyA1DpbIM2h",
        "outputId": "d8ca350c-566d-4b36-fb18-613dcaf54eab"
      },
      "execution_count": null,
      "outputs": [
        {
          "output_type": "stream",
          "name": "stdout",
          "text": [
            "Nombre total de lignes dans alldata : 21725\n",
            "Aperçu des premières lignes :\n",
            "                                        sentence     label\n",
            "0                 انسان عبارة عن دواء للإكتئاب❤🎤  positive\n",
            "1              نحبك يا فنان وااااااحسااااااااان❤  positive\n",
            "2  وحق الرب الى دوا د الاكتئاب الأسطورة❤️❤️❤️❤️😂  positive\n",
            "3            اسطورة بكل ما تحمل الكلمة من معنى ❤  positive\n",
            "4                           أسطورة 🧜‍♂️ لن تكرر❤  positive\n",
            "\n",
            "✅ Le fichier 'alldata.csv' a été sauvegardé avec succès.\n"
          ]
        }
      ]
    },
    {
      "cell_type": "code",
      "source": [
        "# Afficher le nombre de lignes\n",
        "print(f\"Nombre de lignes dans alldata : {alldata.shape[0]}\")\n",
        "\n",
        "# Afficher les 4 premières lignes\n",
        "print(\"Aperçu des 4 premières lignes :\")\n",
        "print(alldata.head(4))\n",
        "\n",
        "# Compter le nombre de positifs et négatifs\n",
        "label_counts = alldata['label'].value_counts()\n",
        "print(\"\\nNombre de commentaires positifs et négatifs :\")\n",
        "print(label_counts)\n"
      ],
      "metadata": {
        "colab": {
          "base_uri": "https://localhost:8080/"
        },
        "id": "5D5OtcsDIlW9",
        "outputId": "90ea2edc-e637-4968-de14-6bc84ec95ca1"
      },
      "execution_count": null,
      "outputs": [
        {
          "output_type": "stream",
          "name": "stdout",
          "text": [
            "Nombre de lignes dans alldata : 21725\n",
            "Aperçu des 4 premières lignes :\n",
            "                                        sentence     label\n",
            "0                 انسان عبارة عن دواء للإكتئاب❤🎤  positive\n",
            "1              نحبك يا فنان وااااااحسااااااااان❤  positive\n",
            "2  وحق الرب الى دوا د الاكتئاب الأسطورة❤️❤️❤️❤️😂  positive\n",
            "3            اسطورة بكل ما تحمل الكلمة من معنى ❤  positive\n",
            "\n",
            "Nombre de commentaires positifs et négatifs :\n",
            "label\n",
            "positive    10884\n",
            "negative    10841\n",
            "Name: count, dtype: int64\n"
          ]
        }
      ]
    }
  ]
}