{
  "nbformat": 4,
  "nbformat_minor": 0,
  "metadata": {
    "colab": {
      "provenance": []
    },
    "kernelspec": {
      "name": "python3",
      "display_name": "Python 3"
    },
    "language_info": {
      "name": "python"
    }
  },
  "cells": [
    {
      "cell_type": "code",
      "execution_count": null,
      "metadata": {
        "colab": {
          "base_uri": "https://localhost:8080/"
        },
        "id": "kTVxSEE0ccvc",
        "outputId": "7b038567-a672-4036-8b44-bc7f4e71b777"
      },
      "outputs": [
        {
          "output_type": "stream",
          "name": "stdout",
          "text": [
            "Requirement already satisfied: nltk in /usr/local/lib/python3.10/dist-packages (3.9.1)\n",
            "Requirement already satisfied: click in /usr/local/lib/python3.10/dist-packages (from nltk) (8.1.7)\n",
            "Requirement already satisfied: joblib in /usr/local/lib/python3.10/dist-packages (from nltk) (1.4.2)\n",
            "Requirement already satisfied: regex>=2021.8.3 in /usr/local/lib/python3.10/dist-packages (from nltk) (2024.11.6)\n",
            "Requirement already satisfied: tqdm in /usr/local/lib/python3.10/dist-packages (from nltk) (4.67.1)\n"
          ]
        },
        {
          "output_type": "stream",
          "name": "stderr",
          "text": [
            "[nltk_data] Downloading package punkt to /root/nltk_data...\n",
            "[nltk_data]   Unzipping tokenizers/punkt.zip.\n"
          ]
        },
        {
          "output_type": "execute_result",
          "data": {
            "text/plain": [
              "True"
            ]
          },
          "metadata": {},
          "execution_count": 2
        }
      ],
      "source": [
        "!pip install nltk\n",
        "import nltk\n",
        "# Télécharger les outils nécessaires de nltk\n",
        "nltk.download('punkt')"
      ]
    },
    {
      "cell_type": "code",
      "source": [
        "import pandas as pd\n",
        "\n",
        "# Charger le fichier\n",
        "data = pd.read_csv(\"alldata.csv\")\n",
        "\n",
        "# Afficher le nombre de lignes\n",
        "print(f\"Nombre de lignes dans data : {data.shape[0]}\")\n",
        "\n",
        "# Afficher les 4 premières lignes\n",
        "print(\"Aperçu des 4 premières lignes :\")\n",
        "print(data.head(4))\n",
        "\n",
        "# Compter le nombre de positifs et négatifs\n",
        "label_counts = data['label'].value_counts()\n",
        "print(\"\\nNombre de commentaires positifs et négatifs :\")\n",
        "print(label_counts)\n"
      ],
      "metadata": {
        "colab": {
          "base_uri": "https://localhost:8080/"
        },
        "id": "1y589jAwcfZQ",
        "outputId": "ba3424e6-013d-47fd-d101-ec772a6dfb4b"
      },
      "execution_count": null,
      "outputs": [
        {
          "output_type": "stream",
          "name": "stdout",
          "text": [
            "Nombre de lignes dans data : 21725\n",
            "Aperçu des 4 premières lignes :\n",
            "                                        sentence     label\n",
            "0                 انسان عبارة عن دواء للإكتئاب❤🎤  positive\n",
            "1              نحبك يا فنان وااااااحسااااااااان❤  positive\n",
            "2  وحق الرب الى دوا د الاكتئاب الأسطورة❤️❤️❤️❤️😂  positive\n",
            "3            اسطورة بكل ما تحمل الكلمة من معنى ❤  positive\n",
            "\n",
            "Nombre de commentaires positifs et négatifs :\n",
            "label\n",
            "positive    10884\n",
            "negative    10841\n",
            "Name: count, dtype: int64\n"
          ]
        }
      ]
    },
    {
      "cell_type": "code",
      "source": [
        "import re\n",
        "\n",
        "# 1. Vérifier les lignes vides dans 'sentence' ou 'label'\n",
        "print(\"Nombre de lignes vides dans 'sentence' :\", data['sentence'].isnull().sum())\n",
        "print(\"Nombre de lignes vides dans 'label' :\", data['label'].isnull().sum())\n",
        "\n",
        "# 2. Compter les phrases contenant des caractères latins\n",
        "def contains_latin(text):\n",
        "    return bool(re.search(r'[a-zA-Z]', str(text)))\n",
        "\n",
        "# Filtrer les lignes contenant des caractères latins\n",
        "latin_sentences = data[data['sentence'].apply(contains_latin)]\n",
        "\n",
        "# Compter le nombre de lignes avec caractères latins\n",
        "latin_count = latin_sentences.shape[0]\n",
        "print(f\"Nombre de lignes contenant des caractères latins : {latin_count}\")\n",
        "\n",
        "# Afficher quelques exemples de phrases contenant des caractères latins\n",
        "print(\"\\nExemples de lignes contenant des caractères latins :\")\n",
        "print(latin_sentences[['sentence']].head())\n"
      ],
      "metadata": {
        "colab": {
          "base_uri": "https://localhost:8080/"
        },
        "id": "hrFvOPlwcg5P",
        "outputId": "f2469496-17cb-4bfe-9280-1b01643cad4b"
      },
      "execution_count": null,
      "outputs": [
        {
          "output_type": "stream",
          "name": "stdout",
          "text": [
            "Nombre de lignes vides dans 'sentence' : 3\n",
            "Nombre de lignes vides dans 'label' : 0\n",
            "Nombre de lignes contenant des caractères latins : 42\n",
            "\n",
            "Exemples de lignes contenant des caractères latins :\n",
            "                                                sentence\n",
            "14175     تفو عليكم أوجه كاكا      ni beauté ni Venu tôt\n",
            "14308                            اش هاد الزبل...signaler\n",
            "14513                                شوف tv قناة الفضائح\n",
            "14582  لعنة الله على شوف TV الى يوم الدين وجميع العام...\n",
            "14592  بقوت م الأغنيت top سماكيت ألخوت ههههه سير الين...\n"
          ]
        }
      ]
    },
    {
      "cell_type": "code",
      "source": [
        "import re\n",
        "\n",
        "import re\n",
        "\n",
        "# Fonction complète pour le nettoyage du texte\n",
        "def clean_text(text):\n",
        "    # 1. Supprimer les balises HTML tout en conservant leur contenu\n",
        "    text = re.sub(r'<.*?>', '', text)  # Exemple : \"<a>link</a>\" devient \"link\"\n",
        "\n",
        "    # 2. Supprimer les caractères @ et # mais conserver le contenu du tag\n",
        "    text = re.sub(r'[@#]', '', text)  # Supprime uniquement les caractères @ et #\n",
        "\n",
        "    # 3. Supprimer les chiffres arabes et latins\n",
        "    text = re.sub(r'[0-9٠-٩]', '', text)  # Supprime les chiffres 0-9 et ٠-٩\n",
        "\n",
        "    # 4. Supprimer les caractères spéciaux, la ponctuation et les symboles\n",
        "    text = re.sub(r'[^ء-ي\\u0600-\\u06FFa-zA-Z\\s]', '', text)  # Garde les lettres arabes et latines uniquement\n",
        "\n",
        "    # 5. Supprimer les emojis\n",
        "    emoji_pattern = re.compile(\"[\"\n",
        "        u\"\\U0001F600-\\U0001F64F\"  # Emoticônes visage\n",
        "        u\"\\U0001F300-\\U0001F5FF\"  # Symboles & pictogrammes\n",
        "        u\"\\U0001F680-\\U0001F6FF\"  # Transport & cartes\n",
        "        u\"\\U0001F1E0-\\U0001F1FF\"  # Drapeaux (iOS)\n",
        "        u\"\\U00002500-\\U00002BEF\"  # Lignes\n",
        "        u\"\\U00002702-\\U000027B0\"  # Symboles divers\n",
        "        u\"\\U00002B50\\U0001F004\"  # Étoiles & carreaux\n",
        "        \"]+\", flags=re.UNICODE)\n",
        "    text = emoji_pattern.sub(r'', text)\n",
        "\n",
        "    # 6. Retirer les espaces multiples et inutiles\n",
        "    text = re.sub(r'\\s+', ' ', text).strip()\n",
        "\n",
        "    return text\n",
        "\n",
        "\n",
        "# Appliquer la fonction pour nettoyer la colonne 'sentence' (remplacement direct)\n",
        "data['sentence'] = data['sentence'].apply(lambda x: clean_text(str(x)))\n",
        "\n",
        "# Supprimer les lignes vides après nettoyage\n",
        "data = data[data['sentence'] != '']\n",
        "\n",
        "# Vérifier si des lignes vides restent dans 'sentence'\n",
        "print(f\"Nombre de lignes vides restantes : {data['sentence'].isnull().sum()}\")\n",
        "\n",
        "# Afficher un aperçu des phrases nettoyées\n",
        "print(\"Aperçu des phrases nettoyées :\")\n",
        "print(data.head())\n",
        "\n"
      ],
      "metadata": {
        "colab": {
          "base_uri": "https://localhost:8080/"
        },
        "id": "j026Q465cib6",
        "outputId": "98dfc812-f154-4ec2-f301-551f04104b7a"
      },
      "execution_count": null,
      "outputs": [
        {
          "output_type": "stream",
          "name": "stdout",
          "text": [
            "Nombre de lignes vides restantes : 0\n",
            "Aperçu des phrases nettoyées :\n",
            "                               sentence     label\n",
            "0          انسان عبارة عن دواء للإكتئاب  positive\n",
            "1      نحبك يا فنان وااااااحسااااااااان  positive\n",
            "2  وحق الرب الى دوا د الاكتئاب الأسطورة  positive\n",
            "3     اسطورة بكل ما تحمل الكلمة من معنى  positive\n",
            "4                        أسطورة لن تكرر  positive\n"
          ]
        }
      ]
    },
    {
      "cell_type": "code",
      "source": [
        "import re\n",
        "\n",
        "# Fonction pour suppression des répétitions de lettres, ponctuations et espaces\n",
        "def remove_duplicates(text):\n",
        "    # 1. Réduire les lettres répétées (plus de 2 fois) à 2 occurrences\n",
        "    text = re.sub(r'(.)\\1{2,}', r'\\1\\1', text)  # Exemple : جميييل → جميل, tooop → toop\n",
        "\n",
        "    # 2. Réduire les ponctuations répétées (comme ..., !!!!) à une seule occurrence\n",
        "    text = re.sub(r'([.!?,])\\1{1,}', r'\\1', text)  # Exemple : !!!! → !, .... → .\n",
        "\n",
        "    # 3. Réduire les espaces multiples en un seul espace\n",
        "    text = re.sub(r'\\s+', ' ', text)  # Exemple : \"   \" → \" \"\n",
        "\n",
        "    # 4. Retirer les espaces inutiles au début et à la fin\n",
        "    text = text.strip()\n",
        "\n",
        "    return text\n",
        "\n",
        "# Appliquer la fonction directement sur la colonne 'sentence'\n",
        "data['sentence'] = data['sentence'].apply(lambda x: remove_duplicates(str(x)))\n",
        "\n",
        "# Aperçu des phrases après nettoyage\n",
        "print(\"Aperçu des phrases après suppression des duplications :\")\n",
        "print(data.head())\n"
      ],
      "metadata": {
        "colab": {
          "base_uri": "https://localhost:8080/"
        },
        "id": "5Lfq9IKwckcF",
        "outputId": "8a3befb2-81ce-42ac-cc6b-49c3de8b3345"
      },
      "execution_count": null,
      "outputs": [
        {
          "output_type": "stream",
          "name": "stdout",
          "text": [
            "Aperçu des phrases après suppression des duplications :\n",
            "                               sentence     label\n",
            "0          انسان عبارة عن دواء للإكتئاب  positive\n",
            "1                 نحبك يا فنان وااحساان  positive\n",
            "2  وحق الرب الى دوا د الاكتئاب الأسطورة  positive\n",
            "3     اسطورة بكل ما تحمل الكلمة من معنى  positive\n",
            "4                        أسطورة لن تكرر  positive\n"
          ]
        }
      ]
    },
    {
      "cell_type": "code",
      "source": [
        "import re\n",
        "\n",
        "# Fonction de tokenisation simple basée sur les espaces et caractères spéciaux\n",
        "def simple_tokenize(text):\n",
        "    # Diviser par les espaces et supprimer les caractères spéciaux\n",
        "    tokens = re.findall(r'\\b\\w+\\b', text)  # Garde uniquement les mots alphanumériques\n",
        "    return tokens\n",
        "\n",
        "# Appliquer la tokenisation simple sur la colonne 'sentence'\n",
        "data['tokens'] = data['sentence'].apply(lambda x: simple_tokenize(str(x)))\n",
        "\n",
        "# Afficher un aperçu des phrases tokenisées\n",
        "print(\"Aperçu des phrases tokenisées :\")\n",
        "print(data[['sentence', 'tokens']].head())\n",
        "\n",
        "# Enregistrer le dataset\n",
        "data.to_csv(\"simple_tokenized_data.csv\", index=False, encoding='utf-8')\n",
        "print(\"\\n✅ Tokenisation simple terminée. Fichier sauvegardé sous 'simple_tokenized_data.csv'.\")\n"
      ],
      "metadata": {
        "colab": {
          "base_uri": "https://localhost:8080/"
        },
        "id": "HQ9xU7EfdC5o",
        "outputId": "3c2d7371-1915-4ed6-d219-1ec71bd7e138"
      },
      "execution_count": null,
      "outputs": [
        {
          "output_type": "stream",
          "name": "stdout",
          "text": [
            "Aperçu des phrases tokenisées :\n",
            "                               sentence  \\\n",
            "0          انسان عبارة عن دواء للإكتئاب   \n",
            "1                 نحبك يا فنان وااحساان   \n",
            "2  وحق الرب الى دوا د الاكتئاب الأسطورة   \n",
            "3     اسطورة بكل ما تحمل الكلمة من معنى   \n",
            "4                        أسطورة لن تكرر   \n",
            "\n",
            "                                         tokens  \n",
            "0            [انسان, عبارة, عن, دواء, للإكتئاب]  \n",
            "1                    [نحبك, يا, فنان, وااحساان]  \n",
            "2  [وحق, الرب, الى, دوا, د, الاكتئاب, الأسطورة]  \n",
            "3     [اسطورة, بكل, ما, تحمل, الكلمة, من, معنى]  \n",
            "4                            [أسطورة, لن, تكرر]  \n",
            "\n",
            "✅ Tokenisation simple terminée. Fichier sauvegardé sous 'simple_tokenized_data.csv'.\n"
          ]
        }
      ]
    },
    {
      "cell_type": "code",
      "source": [
        "stop_words = [\n",
        "    \"إذ\", \"إذا\", \"إذما\", \"إذن\", \"أف\", \"أقل\", \"أكثر\", \"ألا\", \"إلا\", \"التي\", \"الذي\", \"الذين\", \"إلى\", \"إليك\",\n",
        "    \"إليكم\", \"إليكما\", \"إليكن\", \"أم\", \"أما\", \"إما\", \"أن\", \"إن\", \"إنا\", \"أنا\", \"أنت\", \"أنتم\", \"أنتما\", \"أنتن\",\n",
        "    \"إنما\", \"إنه\", \"أنى\", \"آه\", \"آها\", \"أو\", \"أوه\", \"آي\", \"أي\", \"أيها\", \"إي\", \"أين\", \"أينما\", \"إيه\", \"بخ\",\n",
        "    \"بس\", \"بعض\", \"بك\", \"بكم\", \"بكما\", \"بكن\", \"بل\", \"بلى\", \"بما\", \"بماذا\", \"بمن\", \"بنا\", \"به\", \"بها\", \"بهم\",\n",
        "    \"حاشا\", \"حبذا\", \"حتى\", \"حيث\", \"حيثما\", \"حين\", \"خلا\", \"دون\", \"ذا\", \"ذات\", \"ذاك\", \"ذان\", \"ذلك\", \"ذين\",\n",
        "    \"ذينك\", \"سوف\", \"سوى\", \"عدا\", \"عسى\", \"عل\", \"على\", \"عليك\", \"عليه\", \"عما\", \"عن\", \"عند\", \"غير\", \"فإذا\",\n",
        "    \"فإن\", \"فلا\", \"فمن\", \"في\", \"فيم\", \"فيما\", \"فيه\", \"فيها\", \"قد\", \"كأن\", \"كأنما\", \"كأي\", \"كأين\", \"كذا\",\n",
        "    \"كذلك\", \"كل\", \"كلا\", \"كلاهما\", \"كلتا\", \"كلما\", \"كليكما\", \"كليهما\", \"كم\", \"كما\", \"كي\", \"كيت\", \"كيف\",\n",
        "    \"كيفما\", \"لا\", \"لاسيما\", \"لدى\", \"لست\", \"لستم\", \"لسنا\", \"لعل\", \"لك\", \"لكم\", \"لكما\", \"لكن\", \"لكنما\",\n",
        "    \"لكي\", \"لكيلا\", \"لم\", \"لما\", \"لن\", \"هل\", \"هلا\", \"هم\", \"هما\", \"هنا\", \"هناك\", \"هنالك\", \"هو\", \"هي\",\n",
        "    \"هيا\", \"هيهات\", \"والذي\", \"والذين\", \"وإذ\", \"هذا\", \"علاش\", \"قبل\", \"انه\", \"مع\", \"اني\", \"واش\", \"هه\",\n",
        "    \"الي\", \"الا\", \"ما\", \"و\", \"لي\", \"و الله\", \"ليس\", \"نحن\", \"دبا\", \"علينا\", \"بالله\", \"ديال\", \"وإذا\",\n",
        "    \"ولا\", \"ولو\", \"وما\", \"ومن\", \"وهو\", \"يا\", \"أبٌ\", \"أخٌ\", \"حمٌ\", \"فو\", \"أنتِ\", \"يناير\", \"فبراير\",\n",
        "    \"مارس\", \"أبريل\", \"مايو\", \"يونيو\", \"يوليو\", \"أغسطس\", \"سبتمبر\", \"أكتوبر\", \"نوفمبر\", \"ديسمبر\",\n",
        "    \"جانفي\", \"فيفري\", \"أفريل\", \"جوان\", \"جويلية\", \"أوت\", \"دولار\", \"دينار\", \"ريال\", \"درهم\", \"ليرة\",\n",
        "    \"جنيه\", \"قرش\", \"مليم\", \"فلس\", \"سنتيم\", \"يورو\", \"ين\", \"يوان\", \"شيكل\", \"واحد\", \"اثنان\", \"ثلاثة\",\n",
        "    \"أربعة\", \"خمسة\", \"ستة\", \"سبعة\", \"ثمانية\", \"تسعة\", \"عشرة\", \"أحد\", \"اثنا\", \"إحدى\", \"ثلاث\", \"أربع\",\n",
        "    \"خمس\", \"ست\", \"سبع\", \"ثماني\", \"تسع\", \"عشر\", \"ثمان\", \"سبت\", \"أحد\", \"اثنين\", \"ثلاثاء\", \"أربعاء\",\n",
        "    \"خميس\", \"جمعة\", \"أول\", \"ثان\", \"ثاني\", \"ثالث\", \"رابع\", \"خامس\", \"سادس\", \"سابع\", \"ثامن\", \"تاسع\",\n",
        "    \"عاشر\", \"حادي\", \"أ\", \"ب\", \"ت\", \"ث\", \"ج\", \"ح\", \"خ\", \"د\", \"ذ\", \"ر\", \"ز\", \"س\", \"ش\", \"ص\", \"ض\", \"ط\",\n",
        "    \"ظ\", \"ع\", \"غ\", \"ف\", \"ق\", \"ك\", \"ل\", \"م\", \"ن\", \"ه\", \"و\", \"ي\", \"ء\", \"ى\", \"آ\", \"ؤ\", \"ئ\", \"أ\", \"ة\",\n",
        "    \"نا\", \"ك\", \"كن\", \"ه\", \"فلان\", \"وا\", \"آمينَ\", \"آهِ\", \"آهٍ\", \"إيهٍ\", \"بخٍ\", \"وا\", \"ألفى\", \"تخذ\",\n",
        "    \"ترك\", \"تعلَّم\", \"جعل\", \"حجا\", \"حبيب\", \"خال\", \"حسب\", \"درى\", \"رأى\", \"زعم\", \"صبر\", \"نَّ\", \"هلّا\",\n",
        "    \"وا\", \"أل\", \"إلّا\", \"ت\", \"ك\", \"لمّا\", \"ن\", \"ه\", \"ا\", \"ي\", \"تجاه\", \"تلقاء\", \"جميع\", \"حسب\",\n",
        "    \"سبحان\", \"شبه\", \"لعمر\", \"مثل\", \"أبو\", \"أخو\", \"فو\", \"مئة\", \"مئتان\", \"ثلاثمئة\", \"أربعمئة\",\n",
        "    \"خمسمئة\", \"ستمئة\", \"سبعمئة\", \"ثمنمئة\", \"تسعمئة\", \"مائة\", \"ثلاثمائة\", \"أربعمائة\",\n",
        "    \"خمسمائة\", \"ستمائة\", \"سبعمائة\", \"ثمانمئة\", \"تسعمائة\", \"عشرون\", \"ثلاثون\", \"اربعون\",\n",
        "    \"خمسون\", \"ستون\", \"سبعون\", \"ثمانون\", \"تسعون\", \"عشرين\", \"ثلاثين\", \"اربعين\", \"خمسين\",\n",
        "    \"ستين\", \"سبعين\", \"ثمانين\", \"تسعين\", \"بضع\", \"نيف\", \"أجمع\", \"جميع\", \"عامة\", \"عين\", \"نفس\",\n",
        "    \"أصلا\", \"أهلا\", \"أيضا\", \"بعدا\", \"بغتة\", \"حقا\", \"حمدا\", \"خاصة\", \"ان\", \"دواليك\", \"باش\",\n",
        "    \"من\", \"سحقا\", \"واللّه\", \"اللّه\", \"سرا\", \"سمعا\", \"صبرا\", \"صدقا\", \"صراحة\", \"طرا\", \"عجبا\",\n",
        "    \"عيانا\", \"غالبا\"\n",
        "]\n"
      ],
      "metadata": {
        "id": "0EPJmTASeOZ4"
      },
      "execution_count": null,
      "outputs": []
    },
    {
      "cell_type": "code",
      "source": [
        "# Convertir la liste des stop words en ensemble pour des recherches rapides\n",
        "stop_words_set = set(stop_words)\n",
        "\n",
        "# Fonction pour supprimer les stop words d'une liste de tokens\n",
        "def remove_stopwords(tokens):\n",
        "    return [token for token in tokens if token not in stop_words_set]\n",
        "\n",
        "# Appliquer la suppression des stop words sur la colonne 'tokens'\n",
        "data['clean_tokens'] = data['tokens'].apply(remove_stopwords)\n",
        "\n",
        "# Afficher un aperçu des tokens après suppression des stop words\n",
        "print(\"Aperçu des tokens après suppression des stop words :\")\n",
        "print(data[['tokens', 'clean_tokens']].head())\n",
        "\n",
        "# Sauvegarder le dataset avec les tokens nettoyés\n",
        "data.to_csv(\"stopwords_removed_data.csv\", index=False, encoding='utf-8')\n",
        "print(\"\\n✅ Suppression des stop words terminée. Fichier sauvegardé sous 'stopwords_removed_data.csv'.\")\n"
      ],
      "metadata": {
        "colab": {
          "base_uri": "https://localhost:8080/"
        },
        "id": "nNAdD1mye0XK",
        "outputId": "ed7930f1-621e-4f70-96f5-9891c430aaca"
      },
      "execution_count": null,
      "outputs": [
        {
          "output_type": "stream",
          "name": "stdout",
          "text": [
            "Aperçu des tokens après suppression des stop words :\n",
            "                                         tokens  \\\n",
            "0            [انسان, عبارة, عن, دواء, للإكتئاب]   \n",
            "1                    [نحبك, يا, فنان, وااحساان]   \n",
            "2  [وحق, الرب, الى, دوا, د, الاكتئاب, الأسطورة]   \n",
            "3     [اسطورة, بكل, ما, تحمل, الكلمة, من, معنى]   \n",
            "4                            [أسطورة, لن, تكرر]   \n",
            "\n",
            "                                clean_tokens  \n",
            "0             [انسان, عبارة, دواء, للإكتئاب]  \n",
            "1                     [نحبك, فنان, وااحساان]  \n",
            "2  [وحق, الرب, الى, دوا, الاكتئاب, الأسطورة]  \n",
            "3          [اسطورة, بكل, تحمل, الكلمة, معنى]  \n",
            "4                             [أسطورة, تكرر]  \n",
            "\n",
            "✅ Suppression des stop words terminée. Fichier sauvegardé sous 'stopwords_removed_data.csv'.\n"
          ]
        }
      ]
    },
    {
      "cell_type": "code",
      "source": [
        "import re\n",
        "\n",
        "def normalize_tokens(tokens):\n",
        "    normalized_tokens = []\n",
        "    for token in tokens:\n",
        "        # Normalisation des caractères arabes\n",
        "        token = token.replace(\"أ\", \"ا\").replace(\"إ\", \"ا\").replace(\"آ\", \"ا\")\n",
        "        token = token.replace(\"ة\", \"ه\")\n",
        "        token = token.replace(\"ى\", \"ي\")\n",
        "        token = token.replace(\"ؤ\", \"و\")\n",
        "        token = token.replace(\"ئ\", \"ي\")\n",
        "\n",
        "        # Suppression des diacritiques (voyelles courtes)\n",
        "        token = re.sub(r'[\\u0610-\\u061A\\u064B-\\u065F]', '', token)\n",
        "\n",
        "        normalized_tokens.append(token)\n",
        "    return normalized_tokens\n",
        "# Appliquer la normalisation sur la colonne 'clean_tokens'\n",
        "data['normalized_tokens'] = data['clean_tokens'].apply(normalize_tokens)\n",
        "\n",
        "# Afficher un aperçu des tokens normalisés\n",
        "print(\"Aperçu des tokens après normalisation :\")\n",
        "print(data[['clean_tokens', 'normalized_tokens']].head())\n",
        "\n"
      ],
      "metadata": {
        "colab": {
          "base_uri": "https://localhost:8080/"
        },
        "id": "4sIOc0d9h9TP",
        "outputId": "6c030f11-71eb-4076-f344-4890a57d185d"
      },
      "execution_count": null,
      "outputs": [
        {
          "output_type": "stream",
          "name": "stdout",
          "text": [
            "Aperçu des tokens après normalisation :\n",
            "                                clean_tokens  \\\n",
            "0             [انسان, عبارة, دواء, للإكتئاب]   \n",
            "1                     [نحبك, فنان, وااحساان]   \n",
            "2  [وحق, الرب, الى, دوا, الاكتئاب, الأسطورة]   \n",
            "3          [اسطورة, بكل, تحمل, الكلمة, معنى]   \n",
            "4                             [أسطورة, تكرر]   \n",
            "\n",
            "                           normalized_tokens  \n",
            "0             [انسان, عباره, دواء, للاكتياب]  \n",
            "1                     [نحبك, فنان, وااحساان]  \n",
            "2  [وحق, الرب, الي, دوا, الاكتياب, الاسطوره]  \n",
            "3          [اسطوره, بكل, تحمل, الكلمه, معني]  \n",
            "4                             [اسطوره, تكرر]  \n"
          ]
        }
      ]
    },
    {
      "cell_type": "code",
      "source": [
        "# Sauvegarder le dataset final\n",
        "data.to_csv(\"normalized_data.csv\", index=False, encoding='utf-8')\n",
        "print(\"\\n✅ Normalisation des tokens terminée. Fichier sauvegardé sous 'normalized_data.csv'.\")\n"
      ],
      "metadata": {
        "id": "kDAxhDx4mQmW",
        "outputId": "f0893691-adee-4846-cb76-2f1e8f479333",
        "colab": {
          "base_uri": "https://localhost:8080/"
        }
      },
      "execution_count": null,
      "outputs": [
        {
          "output_type": "stream",
          "name": "stdout",
          "text": [
            "\n",
            "✅ Normalisation des tokens terminée. Fichier sauvegardé sous 'normalized_data.csv'.\n"
          ]
        }
      ]
    },
    {
      "cell_type": "code",
      "source": [
        "import pandas as pd\n",
        "import matplotlib.pyplot as plt\n",
        "\n",
        "\n",
        "# Calculer la longueur des phrases\n",
        "data['sentence_length'] = data['sentence'].apply(lambda x: len(str(x).split()))\n",
        "\n",
        "# Afficher quelques statistiques\n",
        "print(\"Statistiques sur la longueur des phrases :\")\n",
        "print(data['sentence_length'].describe())\n",
        "\n",
        "# Histogramme pour la distribution des longueurs\n",
        "plt.figure(figsize=(10, 6))\n",
        "plt.hist(data['sentence_length'], bins=50, color='blue', alpha=0.7)\n",
        "plt.title(\"Distribution des longueurs des phrases\")\n",
        "plt.xlabel(\"Longueur des phrases (en mots)\")\n",
        "plt.ylabel(\"Nombre de phrases\")\n",
        "plt.grid(axis='y', linestyle='--', alpha=0.7)\n",
        "plt.show()\n",
        "\n",
        "# Trouver la longueur maximale\n",
        "max_length = data['sentence_length'].max()\n",
        "print(f\"\\n✅ Longueur maximale d'une phrase : {max_length}\")\n"
      ],
      "metadata": {
        "colab": {
          "base_uri": "https://localhost:8080/",
          "height": 778
        },
        "id": "yeBjx7Nr1S9q",
        "outputId": "5f9dac03-7c50-4d98-ecd9-34edde83bcd6"
      },
      "execution_count": null,
      "outputs": [
        {
          "output_type": "stream",
          "name": "stdout",
          "text": [
            "Statistiques sur la longueur des phrases :\n",
            "count    21028.000000\n",
            "mean        11.975889\n",
            "std         13.343722\n",
            "min          1.000000\n",
            "25%          4.000000\n",
            "50%          8.000000\n",
            "75%         15.000000\n",
            "max        314.000000\n",
            "Name: sentence_length, dtype: float64\n"
          ]
        },
        {
          "output_type": "display_data",
          "data": {
            "text/plain": [
              "<Figure size 1000x600 with 1 Axes>"
            ],
            "image/png": "[encoded data removed]"
          },
          "metadata": {}
        },
        {
          "output_type": "stream",
          "name": "stdout",
          "text": [
            "\n",
            "✅ Longueur maximale d'une phrase : 314\n"
          ]
        }
      ]
    },
    {
      "cell_type": "code",
      "source": [
        "import pandas as pd\n",
        "import matplotlib.pyplot as plt\n",
        "\n",
        "# Calculer la longueur des phrases\n",
        "data['sentence_length'] = data['sentence'].apply(lambda x: len(str(x).split()))\n",
        "\n",
        "# Afficher quelques statistiques descriptives\n",
        "print(\"Statistiques sur la longueur des phrases :\")\n",
        "print(data['sentence_length'].describe())\n",
        "\n",
        "# Calculer les percentiles\n",
        "percentile_80 = data['sentence_length'].quantile(0.8)  # 80e percentile\n",
        "percentile_90 = data['sentence_length'].quantile(0.99)  # 90e percentile\n",
        "\n",
        "print(f\"\\n✅ Longueur maximale d'une phrase : {data['sentence_length'].max()}\")\n",
        "print(f\"📊 Longueur correspondant à 80% des phrases : {percentile_80:.0f} mots\")\n",
        "print(f\"📊 Longueur correspondant à 90% des phrases : {percentile_90:.0f} mots\")\n",
        "\n",
        "# Histogramme pour la distribution des longueurs\n",
        "plt.figure(figsize=(10, 6))\n",
        "plt.hist(data['sentence_length'], bins=50, color='blue', alpha=0.7)\n",
        "plt.axvline(percentile_80, color='orange', linestyle='dashed', linewidth=2, label=f\"80% : {percentile_80:.0f} mots\")\n",
        "plt.axvline(percentile_90, color='red', linestyle='dashed', linewidth=2, label=f\"90% : {percentile_90:.0f} mots\")\n",
        "plt.title(\"Distribution des longueurs des phrases\")\n",
        "plt.xlabel(\"Longueur des phrases (en mots)\")\n",
        "plt.ylabel(\"Nombre de phrases\")\n",
        "plt.legend()\n",
        "plt.grid(axis='y', linestyle='--', alpha=0.7)\n",
        "plt.show()\n"
      ],
      "metadata": {
        "colab": {
          "base_uri": "https://localhost:8080/",
          "height": 814
        },
        "id": "ld15zOz85HH7",
        "outputId": "1d96b4b2-340d-4455-c822-7e80df60468a"
      },
      "execution_count": null,
      "outputs": [
        {
          "output_type": "stream",
          "name": "stdout",
          "text": [
            "Statistiques sur la longueur des phrases :\n",
            "count    21028.000000\n",
            "mean        11.975889\n",
            "std         13.343722\n",
            "min          1.000000\n",
            "25%          4.000000\n",
            "50%          8.000000\n",
            "75%         15.000000\n",
            "max        314.000000\n",
            "Name: sentence_length, dtype: float64\n",
            "\n",
            "✅ Longueur maximale d'une phrase : 314\n",
            "📊 Longueur correspondant à 80% des phrases : 17 mots\n",
            "📊 Longueur correspondant à 90% des phrases : 62 mots\n"
          ]
        },
        {
          "output_type": "display_data",
          "data": {
            "text/plain": [
              "<Figure size 1000x600 with 1 Axes>"
            ],
            "image/png": "[encoded data removed]"
          },
          "metadata": {}
        }
      ]
    }
  ]
}